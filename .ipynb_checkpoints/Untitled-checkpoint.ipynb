{
 "cells": [
  {
   "cell_type": "code",
   "execution_count": 69,
   "metadata": {},
   "outputs": [],
   "source": [
    "import feedparser\n",
    "from pprint import pprint\n",
    "from bs4 import BeautifulSoup\n",
    "import pandas as pd\n",
    "\n",
    "url = \"http://news.google.com/news?q=covid&hl=en-US&sort=date&gl=US&num=10&output=rss\"\n",
    "\n",
    "class ParseFeed():\n",
    "    def __init__(self, url):\n",
    "        self.feed_url = url\n",
    "        \n",
    "    def clean(self, html):\n",
    "        '''\n",
    "        Get the text from html and do some cleaning\n",
    "        '''\n",
    "        soup = BeautifulSoup(html)\n",
    "        text = soup.get_text()\n",
    "        text = text.replace('\\xa0', ' ')\n",
    "        return text\n",
    "    \n",
    "    def parseDf(self, newsDescription, newsUrl, newsDate):\n",
    "        df = pd.DataFrame({'Description':newsDescription, 'URL':newsUrl, 'Date Published':newsDate}) \n",
    "        return htmlOutput, df\n",
    "\n",
    "    def parse(self):\n",
    "        # newsTitle = []\n",
    "        newsDescription = []\n",
    "        newsUrl = []\n",
    "        newsDate = []\n",
    "        htmlOutput = \"\"\"<html><title>COVID-19 Daily News</title><body><style>\n",
    "\t\tbody {\n",
    "\t\t  background-image: url('background.jpg');\n",
    "\t\t  background-repeat: no-repeat;\n",
    "\t\t  background-attachment: fixed;\n",
    "\t\t  background-size: cover;\n",
    "\t\t}\n",
    "\t  </style><center><h1>COVID-19 Daily News</h1></center><dl>\"\"\"\n",
    "        \n",
    "        '''\n",
    "        Parse the URL, and print all the details of the news \n",
    "        '''        \n",
    "        feeds = feedparser.parse(self.feed_url).entries\n",
    "        \n",
    "        for f in feeds:\n",
    "            #newsTitle.append(f.get(\"title\", \"\"))\n",
    "            newsDescription.append(self.clean(f.get(\"description\", \"\")))\n",
    "            newsUrl.append(f.get(\"link\", \"\"))\n",
    "            newsDate.append(f.get(\"published\", \"\"))\n",
    "            \n",
    "            htmlOutput = htmlOutput + \"<dt>\" + self.clean(f.get(\"description\", \"\")) + \"</dt><dd>\" + f.get(\"published\", \"\") + \"</dd><dd><a href =\" + f.get(\"link\", \"\") + \">\" + f.get(\"link\", \"\") + \"</a></dd><br>\"\n",
    "            \n",
    "#             pprint({\n",
    "#                 'Description': self.clean(f.get(\"description\", \"\")),\n",
    "#                 'Published Date': f.get(\"published\", \"\"),\n",
    "#                 'Title': f.get(\"title\", \"\"),\n",
    "#                 'Url': f.get(\"link\", \"\")\n",
    "#             })\n",
    "\n",
    "        htmlOutput = htmlOutput + \"</dl></body></html>\"\n",
    "            \n",
    "        return htmlOutput, self.parseDf(newsDescription, newsUrl, newsDate)\n",
    "    \n",
    "htmlOutput = \"\"\n",
    "feed = ParseFeed(url)\n",
    "htmlOutput, df = feed.parse()"
   ]
  },
  {
   "cell_type": "code",
   "execution_count": 70,
   "metadata": {},
   "outputs": [
    {
     "data": {
      "text/plain": [
       "('',\n",
       "                                           Description  \\\n",
       " 0   Coronavirus (COVID-19) Update: FDA Issues Firs...   \n",
       " 1   Governor Cuomo Updates New Yorkers On State's ...   \n",
       " 2   COVID-19 Daily Update 7-18-2020 - 10 AM  West ...   \n",
       " 3   Coronavirus (COVID-19) Update: Daily Roundup J...   \n",
       " 4   Latest on COVID-19 in MN: New confirmed cases ...   \n",
       " ..                                                ...   \n",
       " 95  How Hospitals Can Meet the Needs of Non-Covid ...   \n",
       " 96  Washington State Beat Back Covid-19. Now It’s ...   \n",
       " 97  Coronavirus (COVID-19) Update: Daily Roundup J...   \n",
       " 98  COVID-19 Surge Has Some Church Leaders Rethink...   \n",
       " 99    COVID-19 Scan for Jul 13, 2020 | CIDRAP  CIDRAP   \n",
       " \n",
       "                                                   URL  \\\n",
       " 0   https://www.fda.gov/news-events/press-announce...   \n",
       " 1   https://www.governor.ny.gov/news/governor-cuom...   \n",
       " 2   https://dhhr.wv.gov/News/2020/Pages/COVID-19-D...   \n",
       " 3   https://www.fda.gov/news-events/press-announce...   \n",
       " 4   https://www.mprnews.org/story/2020/07/18/lates...   \n",
       " ..                                                ...   \n",
       " 95  https://hbr.org/2020/07/how-hospitals-can-meet...   \n",
       " 96  https://www.nytimes.com/2020/07/16/us/coronavi...   \n",
       " 97  https://www.fda.gov/news-events/press-announce...   \n",
       " 98  https://www.npr.org/sections/coronavirus-live-...   \n",
       " 99  https://www.cidrap.umn.edu/news-perspective/20...   \n",
       " \n",
       "                    Date Published  \n",
       " 0   Sat, 18 Jul 2020 04:00:00 GMT  \n",
       " 1   Sat, 18 Jul 2020 13:43:27 GMT  \n",
       " 2   Sat, 18 Jul 2020 14:01:00 GMT  \n",
       " 3   Fri, 17 Jul 2020 22:43:00 GMT  \n",
       " 4   Sat, 18 Jul 2020 14:30:00 GMT  \n",
       " ..                            ...  \n",
       " 95  Tue, 14 Jul 2020 12:09:52 GMT  \n",
       " 96  Thu, 16 Jul 2020 09:00:00 GMT  \n",
       " 97  Mon, 06 Jul 2020 07:00:00 GMT  \n",
       " 98  Fri, 17 Jul 2020 16:28:34 GMT  \n",
       " 99  Mon, 13 Jul 2020 22:04:38 GMT  \n",
       " \n",
       " [100 rows x 3 columns])"
      ]
     },
     "execution_count": 70,
     "metadata": {},
     "output_type": "execute_result"
    }
   ],
   "source": [
    "# df = df.head(10)\n",
    "# df.to_csv('data.csv', index=False)\n",
    "df"
   ]
  },
  {
   "cell_type": "code",
   "execution_count": 71,
   "metadata": {},
   "outputs": [],
   "source": [
    "text_file = open(\"home.html\", \"w\")\n",
    "text_file.write(htmlOutput)\n",
    "text_file.close()"
   ]
  },
  {
   "cell_type": "code",
   "execution_count": null,
   "metadata": {},
   "outputs": [],
   "source": []
  }
 ],
 "metadata": {
  "kernelspec": {
   "display_name": "Python 3",
   "language": "python",
   "name": "python3"
  },
  "language_info": {
   "codemirror_mode": {
    "name": "ipython",
    "version": 3
   },
   "file_extension": ".py",
   "mimetype": "text/x-python",
   "name": "python",
   "nbconvert_exporter": "python",
   "pygments_lexer": "ipython3",
   "version": "3.7.7"
  }
 },
 "nbformat": 4,
 "nbformat_minor": 4
}
