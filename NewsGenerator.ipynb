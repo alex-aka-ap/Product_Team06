{
 "cells": [
  {
   "cell_type": "code",
   "execution_count": 5,
   "metadata": {},
   "outputs": [],
   "source": [
    "import feedparser\n",
    "from pprint import pprint\n",
    "from bs4 import BeautifulSoup\n",
    "import pandas as pd\n",
    "\n",
    "url = \"http://news.google.com/news?q=covid&hl=en-US&sort=date&gl=US&num=10&output=rss\"\n",
    "\n",
    "class ParseFeed():\n",
    "    def __init__(self, url):\n",
    "        self.feed_url = url\n",
    "        \n",
    "    def clean(self, html):\n",
    "        '''\n",
    "        Get the text from html and do some cleaning\n",
    "        '''\n",
    "        soup = BeautifulSoup(html)\n",
    "        text = soup.get_text()\n",
    "        text = text.replace('\\xa0', ' ')\n",
    "        return text\n",
    "\n",
    "    def parse(self):\n",
    "        newsDescription = []\n",
    "        newsUrl = []\n",
    "        newsDate = []\n",
    "        \n",
    "        '''\n",
    "        Parse the URL, and print all the details of the news \n",
    "        '''        \n",
    "        feeds = feedparser.parse(self.feed_url).entries\n",
    "        \n",
    "        for f in feeds:\n",
    "            newsDescription.append(self.clean(f.get(\"description\", \"\")))\n",
    "            newsUrl.append(f.get(\"link\", \"\"))\n",
    "            newsDate.append(f.get(\"published\", \"\"))\n",
    "            \n",
    "        df = pd.DataFrame({'Description':newsDescription, 'URL':newsUrl, 'Date Published':newsDate})            \n",
    "        return df\n",
    "    \n",
    "htmlOutput = \"\"\n",
    "feed = ParseFeed(url)\n",
    "df = feed.parse()"
   ]
  },
  {
   "cell_type": "code",
   "execution_count": 6,
   "metadata": {},
   "outputs": [
    {
     "ename": "UnicodeEncodeError",
     "evalue": "'charmap' codec can't encode character '\\u2010' in position 3632: character maps to <undefined>",
     "output_type": "error",
     "traceback": [
      "\u001b[1;31m---------------------------------------------------------------------------\u001b[0m",
      "\u001b[1;31mUnicodeEncodeError\u001b[0m                        Traceback (most recent call last)",
      "\u001b[1;32m<ipython-input-6-426ac487ecb0>\u001b[0m in \u001b[0;36m<module>\u001b[1;34m\u001b[0m\n\u001b[0;32m     16\u001b[0m \u001b[0mhtmlOutput\u001b[0m \u001b[1;33m=\u001b[0m \u001b[0mhtmlOutput\u001b[0m \u001b[1;33m+\u001b[0m \u001b[1;34m\"</dl></body></html>\"\u001b[0m\u001b[1;33m\u001b[0m\u001b[1;33m\u001b[0m\u001b[0m\n\u001b[0;32m     17\u001b[0m \u001b[0mtext_file\u001b[0m \u001b[1;33m=\u001b[0m \u001b[0mopen\u001b[0m\u001b[1;33m(\u001b[0m\u001b[1;34m\"home.html\"\u001b[0m\u001b[1;33m,\u001b[0m \u001b[1;34m\"w\"\u001b[0m\u001b[1;33m)\u001b[0m\u001b[1;33m\u001b[0m\u001b[1;33m\u001b[0m\u001b[0m\n\u001b[1;32m---> 18\u001b[1;33m \u001b[0mtext_file\u001b[0m\u001b[1;33m.\u001b[0m\u001b[0mwrite\u001b[0m\u001b[1;33m(\u001b[0m\u001b[0mhtmlOutput\u001b[0m\u001b[1;33m)\u001b[0m\u001b[1;33m\u001b[0m\u001b[1;33m\u001b[0m\u001b[0m\n\u001b[0m\u001b[0;32m     19\u001b[0m \u001b[0mtext_file\u001b[0m\u001b[1;33m.\u001b[0m\u001b[0mclose\u001b[0m\u001b[1;33m(\u001b[0m\u001b[1;33m)\u001b[0m\u001b[1;33m\u001b[0m\u001b[1;33m\u001b[0m\u001b[0m\n\u001b[0;32m     20\u001b[0m \u001b[1;33m\u001b[0m\u001b[0m\n",
      "\u001b[1;32m~\\Anaconda3\\lib\\encodings\\cp1252.py\u001b[0m in \u001b[0;36mencode\u001b[1;34m(self, input, final)\u001b[0m\n\u001b[0;32m     17\u001b[0m \u001b[1;32mclass\u001b[0m \u001b[0mIncrementalEncoder\u001b[0m\u001b[1;33m(\u001b[0m\u001b[0mcodecs\u001b[0m\u001b[1;33m.\u001b[0m\u001b[0mIncrementalEncoder\u001b[0m\u001b[1;33m)\u001b[0m\u001b[1;33m:\u001b[0m\u001b[1;33m\u001b[0m\u001b[1;33m\u001b[0m\u001b[0m\n\u001b[0;32m     18\u001b[0m     \u001b[1;32mdef\u001b[0m \u001b[0mencode\u001b[0m\u001b[1;33m(\u001b[0m\u001b[0mself\u001b[0m\u001b[1;33m,\u001b[0m \u001b[0minput\u001b[0m\u001b[1;33m,\u001b[0m \u001b[0mfinal\u001b[0m\u001b[1;33m=\u001b[0m\u001b[1;32mFalse\u001b[0m\u001b[1;33m)\u001b[0m\u001b[1;33m:\u001b[0m\u001b[1;33m\u001b[0m\u001b[1;33m\u001b[0m\u001b[0m\n\u001b[1;32m---> 19\u001b[1;33m         \u001b[1;32mreturn\u001b[0m \u001b[0mcodecs\u001b[0m\u001b[1;33m.\u001b[0m\u001b[0mcharmap_encode\u001b[0m\u001b[1;33m(\u001b[0m\u001b[0minput\u001b[0m\u001b[1;33m,\u001b[0m\u001b[0mself\u001b[0m\u001b[1;33m.\u001b[0m\u001b[0merrors\u001b[0m\u001b[1;33m,\u001b[0m\u001b[0mencoding_table\u001b[0m\u001b[1;33m)\u001b[0m\u001b[1;33m[\u001b[0m\u001b[1;36m0\u001b[0m\u001b[1;33m]\u001b[0m\u001b[1;33m\u001b[0m\u001b[1;33m\u001b[0m\u001b[0m\n\u001b[0m\u001b[0;32m     20\u001b[0m \u001b[1;33m\u001b[0m\u001b[0m\n\u001b[0;32m     21\u001b[0m \u001b[1;32mclass\u001b[0m \u001b[0mIncrementalDecoder\u001b[0m\u001b[1;33m(\u001b[0m\u001b[0mcodecs\u001b[0m\u001b[1;33m.\u001b[0m\u001b[0mIncrementalDecoder\u001b[0m\u001b[1;33m)\u001b[0m\u001b[1;33m:\u001b[0m\u001b[1;33m\u001b[0m\u001b[1;33m\u001b[0m\u001b[0m\n",
      "\u001b[1;31mUnicodeEncodeError\u001b[0m: 'charmap' codec can't encode character '\\u2010' in position 3632: character maps to <undefined>"
     ]
    }
   ],
   "source": [
    "df['Date'] = pd.to_datetime(df['Date Published'])\n",
    "df = df.head(10).sort_values(by = ['Date'], ascending=False)\n",
    "\n",
    "# Saving data to html output\n",
    "htmlOutput = \"\"\"<html><title>COVID-19 Daily News</title><body><style>\n",
    "\t\tbody {\n",
    "\t\t  background-image: url('background.jpg');\n",
    "\t\t  background-repeat: no-repeat;\n",
    "\t\t  background-attachment: fixed;\n",
    "\t\t  background-size: cover;\n",
    "\t\t}\n",
    "\t  </style><center><h1>COVID-19 Daily News</h1></center><dl>\"\"\"\n",
    "\n",
    "for index,row in df.iterrows():\n",
    "    htmlOutput = htmlOutput + \"<dt>\" + row['Description'] + \"</dt><dd>\" + row['Date Published'] + \"</dd><dd><a href =\" + row['URL'] + \">\" + row['URL'] + \"</a></dd><br>\"\n",
    "htmlOutput = htmlOutput + \"</dl></body></html>\"\n",
    "text_file = open(\"home.html\", \"w\")\n",
    "text_file.write(htmlOutput)\n",
    "text_file.close()\n",
    "\n",
    "df.to_csv('data.csv', index=False)\n",
    "df"
   ]
  },
  {
   "cell_type": "code",
   "execution_count": null,
   "metadata": {},
   "outputs": [],
   "source": []
  }
 ],
 "metadata": {
  "kernelspec": {
   "display_name": "Python 3",
   "language": "python",
   "name": "python3"
  },
  "language_info": {
   "codemirror_mode": {
    "name": "ipython",
    "version": 3
   },
   "file_extension": ".py",
   "mimetype": "text/x-python",
   "name": "python",
   "nbconvert_exporter": "python",
   "pygments_lexer": "ipython3",
   "version": "3.7.9"
  }
 },
 "nbformat": 4,
 "nbformat_minor": 4
}
